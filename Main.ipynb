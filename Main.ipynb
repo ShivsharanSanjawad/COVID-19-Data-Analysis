{
  "cells": [
    {
      "cell_type": "code",
      "execution_count": null,
      "id": "2ea394f4-0484-4cfc-854e-f83a3cde1463",
      "metadata": {
        "id": "2ea394f4-0484-4cfc-854e-f83a3cde1463"
      },
      "outputs": [],
      "source": [
        "import numpy as np\n",
        "import pandas as pd\n",
        "import matplotlib.pyplot as plt\n",
        "import seaborn as sns"
      ]
    },
    {
      "cell_type": "code",
      "execution_count": null,
      "id": "e5af8caf-de11-4705-be78-ab981bb34cae",
      "metadata": {
        "id": "e5af8caf-de11-4705-be78-ab981bb34cae"
      },
      "outputs": [],
      "source": [
        "#Shivsharan"
      ]
    },
    {
      "cell_type": "code",
      "execution_count": null,
      "id": "0faa4e42-d543-4a3b-8080-3b1bc282f3fb",
      "metadata": {
        "id": "0faa4e42-d543-4a3b-8080-3b1bc282f3fb"
      },
      "outputs": [],
      "source": [
        "#pull"
      ]
    },
    {
      "cell_type": "code",
      "execution_count": null,
      "id": "33cc45fa-8ede-4348-9693-8be85270a5b3",
      "metadata": {
        "id": "33cc45fa-8ede-4348-9693-8be85270a5b3"
      },
      "outputs": [],
      "source": []
    },
    {
      "cell_type": "code",
      "execution_count": null,
      "id": "e6ec6e7e-b906-49e6-81f2-fce1b90625bd",
      "metadata": {
        "id": "e6ec6e7e-b906-49e6-81f2-fce1b90625bd"
      },
      "outputs": [],
      "source": []
    },
    {
      "cell_type": "code",
      "execution_count": null,
      "id": "377ad152-7547-47f3-9743-e43817078779",
      "metadata": {
        "id": "377ad152-7547-47f3-9743-e43817078779"
      },
      "outputs": [],
      "source": []
    },
    {
      "cell_type": "code",
      "execution_count": null,
      "id": "61d27f12-464a-477d-bd65-8a5dbfe77312",
      "metadata": {
        "id": "61d27f12-464a-477d-bd65-8a5dbfe77312"
      },
      "outputs": [],
      "source": []
    },
    {
      "cell_type": "code",
      "execution_count": null,
      "id": "f1cdf6f1-0cc3-421b-b3e5-501877b0b64b",
      "metadata": {
        "id": "f1cdf6f1-0cc3-421b-b3e5-501877b0b64b"
      },
      "outputs": [],
      "source": []
    },
    {
      "cell_type": "code",
      "execution_count": null,
      "id": "8bd6a757-4f30-4c16-aa6d-af4cf36a8717",
      "metadata": {
        "id": "8bd6a757-4f30-4c16-aa6d-af4cf36a8717"
      },
      "outputs": [],
      "source": []
    },
    {
      "cell_type": "code",
      "execution_count": null,
      "id": "b3980fe7-8ceb-4a01-8eef-a3bb6210b02e",
      "metadata": {
        "id": "b3980fe7-8ceb-4a01-8eef-a3bb6210b02e"
      },
      "outputs": [],
      "source": []
    },
    {
      "cell_type": "code",
      "execution_count": null,
      "id": "2b29667b-a49e-43ce-a4c2-95de83a8bd60",
      "metadata": {
        "id": "2b29667b-a49e-43ce-a4c2-95de83a8bd60"
      },
      "outputs": [],
      "source": []
    },
    {
      "cell_type": "code",
      "execution_count": null,
      "id": "40eb53b4-4470-4631-a60d-0176c09d0644",
      "metadata": {
        "id": "40eb53b4-4470-4631-a60d-0176c09d0644"
      },
      "outputs": [],
      "source": []
    },
    {
      "cell_type": "code",
      "execution_count": null,
      "id": "61b4e8c7-d474-42f3-8c68-fa1b8e7b5e5e",
      "metadata": {
        "id": "61b4e8c7-d474-42f3-8c68-fa1b8e7b5e5e"
      },
      "outputs": [],
      "source": []
    },
    {
      "cell_type": "code",
      "execution_count": null,
      "id": "484c71e8-2b53-419e-b6f7-9ae23b6e11b3",
      "metadata": {
        "id": "484c71e8-2b53-419e-b6f7-9ae23b6e11b3"
      },
      "outputs": [],
      "source": []
    },
    {
      "cell_type": "code",
      "execution_count": null,
      "id": "8ccd4c9e-edb2-4e95-9dce-43b5dea2757c",
      "metadata": {
        "id": "8ccd4c9e-edb2-4e95-9dce-43b5dea2757c"
      },
      "outputs": [],
      "source": []
    },
    {
      "cell_type": "code",
      "execution_count": null,
      "id": "6558b753-3a25-4b6b-b1de-39f635f9aed8",
      "metadata": {
        "id": "6558b753-3a25-4b6b-b1de-39f635f9aed8"
      },
      "outputs": [],
      "source": []
    },
    {
      "cell_type": "code",
      "execution_count": null,
      "id": "e4d039ff-e568-4cfb-8f0f-0357b5245fc0",
      "metadata": {
        "id": "e4d039ff-e568-4cfb-8f0f-0357b5245fc0"
      },
      "outputs": [],
      "source": []
    },
    {
      "cell_type": "code",
      "execution_count": null,
      "id": "9e196e8a-d4e1-4080-bb75-bfe5927b54dd",
      "metadata": {
        "id": "9e196e8a-d4e1-4080-bb75-bfe5927b54dd"
      },
      "outputs": [],
      "source": []
    },
    {
      "cell_type": "code",
      "execution_count": null,
      "id": "da5da8bc-dedc-4875-875c-d672e73951d0",
      "metadata": {
        "id": "da5da8bc-dedc-4875-875c-d672e73951d0"
      },
      "outputs": [],
      "source": []
    },
    {
      "cell_type": "code",
      "execution_count": null,
      "id": "ab9e6051-7985-4cb5-8393-893958c1fa1c",
      "metadata": {
        "id": "ab9e6051-7985-4cb5-8393-893958c1fa1c"
      },
      "outputs": [],
      "source": []
    },
    {
      "cell_type": "code",
      "execution_count": null,
      "id": "f84a7797-3a5d-474e-bb1e-3c99e692f959",
      "metadata": {
        "id": "f84a7797-3a5d-474e-bb1e-3c99e692f959"
      },
      "outputs": [],
      "source": []
    },
    {
      "cell_type": "code",
      "execution_count": null,
      "id": "8ddfb72c-37bd-40e9-ab66-6ebbe736c913",
      "metadata": {
        "id": "8ddfb72c-37bd-40e9-ab66-6ebbe736c913"
      },
      "outputs": [],
      "source": []
    },
    {
      "cell_type": "code",
      "execution_count": null,
      "id": "e5fbe9b5-9593-4feb-abbc-ff3faef24fcd",
      "metadata": {
        "id": "e5fbe9b5-9593-4feb-abbc-ff3faef24fcd"
      },
      "outputs": [],
      "source": []
    },
    {
      "cell_type": "code",
      "execution_count": null,
      "id": "f9ab7e39-cfda-45c8-86ce-221a3cabf302",
      "metadata": {
        "id": "f9ab7e39-cfda-45c8-86ce-221a3cabf302"
      },
      "outputs": [],
      "source": []
    },
    {
      "cell_type": "code",
      "execution_count": null,
      "id": "d79f96e2-70d0-4d9f-9e08-d22cff3c54fe",
      "metadata": {
        "id": "d79f96e2-70d0-4d9f-9e08-d22cff3c54fe"
      },
      "outputs": [],
      "source": []
    },
    {
      "cell_type": "code",
      "execution_count": null,
      "id": "4953ddf0-fa72-4c7d-9824-a64884a8ec75",
      "metadata": {
        "id": "4953ddf0-fa72-4c7d-9824-a64884a8ec75"
      },
      "outputs": [],
      "source": []
    },
    {
      "cell_type": "code",
      "execution_count": null,
      "id": "18d97b44-3679-422b-9514-4f0fa9ee067f",
      "metadata": {
        "id": "18d97b44-3679-422b-9514-4f0fa9ee067f"
      },
      "outputs": [],
      "source": []
    },
    {
      "cell_type": "code",
      "execution_count": null,
      "id": "b3095dd2-7a03-4b27-a3d7-60085769a366",
      "metadata": {
        "id": "b3095dd2-7a03-4b27-a3d7-60085769a366"
      },
      "outputs": [],
      "source": []
    },
    {
      "cell_type": "code",
      "execution_count": null,
      "id": "182ce254-6c56-4bbf-b0ac-34c890c46a69",
      "metadata": {
        "id": "182ce254-6c56-4bbf-b0ac-34c890c46a69"
      },
      "outputs": [],
      "source": []
    },
    {
      "cell_type": "code",
      "execution_count": null,
      "id": "aacb6ffe-6bd3-4b2a-84ad-3c428c030cb9",
      "metadata": {
        "id": "aacb6ffe-6bd3-4b2a-84ad-3c428c030cb9"
      },
      "outputs": [],
      "source": []
    },
    {
      "cell_type": "code",
      "execution_count": null,
      "id": "14f5aa2c-a7ff-4ae2-8f01-3e7c1af27986",
      "metadata": {
        "id": "14f5aa2c-a7ff-4ae2-8f01-3e7c1af27986"
      },
      "outputs": [],
      "source": []
    },
    {
      "cell_type": "code",
      "execution_count": null,
      "id": "56f92698-2a60-4be4-aa22-1ed76b0bf4fe",
      "metadata": {
        "id": "56f92698-2a60-4be4-aa22-1ed76b0bf4fe"
      },
      "outputs": [],
      "source": []
    },
    {
      "cell_type": "code",
      "execution_count": null,
      "id": "530d88ff-8876-496e-acad-3c2325c64504",
      "metadata": {
        "id": "530d88ff-8876-496e-acad-3c2325c64504"
      },
      "outputs": [],
      "source": []
    },
    {
      "cell_type": "code",
      "execution_count": null,
      "id": "34268202-eae1-4c73-80f2-f8fd8991eb0a",
      "metadata": {
        "id": "34268202-eae1-4c73-80f2-f8fd8991eb0a"
      },
      "outputs": [],
      "source": []
    },
    {
      "cell_type": "code",
      "execution_count": null,
      "id": "9fb17ad1-5b92-426f-bb77-7696129c404f",
      "metadata": {
        "id": "9fb17ad1-5b92-426f-bb77-7696129c404f"
      },
      "outputs": [],
      "source": []
    },
    {
      "cell_type": "code",
      "execution_count": null,
      "id": "9ce24be8-35e4-4944-8c1a-5ee24fd72805",
      "metadata": {
        "id": "9ce24be8-35e4-4944-8c1a-5ee24fd72805"
      },
      "outputs": [],
      "source": []
    },
    {
      "cell_type": "code",
      "execution_count": null,
      "id": "1f8eec05-78eb-4edb-a61d-f541424620ba",
      "metadata": {
        "id": "1f8eec05-78eb-4edb-a61d-f541424620ba"
      },
      "outputs": [],
      "source": []
    },
    {
      "cell_type": "code",
      "execution_count": null,
      "id": "28a9db9b-dacc-48f3-9e00-d97ecdd93179",
      "metadata": {
        "id": "28a9db9b-dacc-48f3-9e00-d97ecdd93179"
      },
      "outputs": [],
      "source": []
    },
    {
      "cell_type": "code",
      "execution_count": null,
      "id": "9b04c840-8387-45d1-be33-d9ac0982150b",
      "metadata": {
        "id": "9b04c840-8387-45d1-be33-d9ac0982150b"
      },
      "outputs": [],
      "source": []
    },
    {
      "cell_type": "code",
      "execution_count": null,
      "id": "f29930db-3196-4809-9034-372de3ed5e59",
      "metadata": {
        "id": "f29930db-3196-4809-9034-372de3ed5e59"
      },
      "outputs": [],
      "source": []
    },
    {
      "cell_type": "code",
      "execution_count": null,
      "id": "fc5df3eb-eaa5-4be1-87c6-0a2ea57097f9",
      "metadata": {
        "id": "fc5df3eb-eaa5-4be1-87c6-0a2ea57097f9"
      },
      "outputs": [],
      "source": []
    },
    {
      "cell_type": "code",
      "execution_count": null,
      "id": "d21344dd-cb13-4587-bee0-913e1de71a61",
      "metadata": {
        "id": "d21344dd-cb13-4587-bee0-913e1de71a61"
      },
      "outputs": [],
      "source": []
    },
    {
      "cell_type": "code",
      "execution_count": null,
      "id": "4d60c30c-8122-4415-8234-963af03dc8e7",
      "metadata": {
        "id": "4d60c30c-8122-4415-8234-963af03dc8e7"
      },
      "outputs": [],
      "source": []
    },
    {
      "cell_type": "code",
      "execution_count": null,
      "id": "18b23b1f-fd0c-4dc3-a3a0-52582a49c9ad",
      "metadata": {
        "id": "18b23b1f-fd0c-4dc3-a3a0-52582a49c9ad"
      },
      "outputs": [],
      "source": []
    },
    {
      "cell_type": "code",
      "execution_count": null,
      "id": "e3bcd49f-6416-4993-8b61-09b722a7e116",
      "metadata": {
        "id": "e3bcd49f-6416-4993-8b61-09b722a7e116"
      },
      "outputs": [],
      "source": []
    },
    {
      "cell_type": "code",
      "execution_count": null,
      "id": "47a9e613-a784-4f84-8827-2548e43d44a9",
      "metadata": {
        "id": "47a9e613-a784-4f84-8827-2548e43d44a9"
      },
      "outputs": [],
      "source": []
    },
    {
      "cell_type": "code",
      "execution_count": null,
      "id": "eab9d220-14b9-4124-9118-81a36a0390a8",
      "metadata": {
        "id": "eab9d220-14b9-4124-9118-81a36a0390a8"
      },
      "outputs": [],
      "source": []
    },
    {
      "cell_type": "code",
      "execution_count": null,
      "id": "6c956ab6-2ba0-46b9-8c7b-4e0fe8a675d9",
      "metadata": {
        "id": "6c956ab6-2ba0-46b9-8c7b-4e0fe8a675d9"
      },
      "outputs": [],
      "source": []
    },
    {
      "cell_type": "code",
      "execution_count": null,
      "id": "7255925e-72df-4865-a980-40cdc67735cf",
      "metadata": {
        "id": "7255925e-72df-4865-a980-40cdc67735cf"
      },
      "outputs": [],
      "source": []
    },
    {
      "cell_type": "code",
      "execution_count": null,
      "id": "5e5fd748-1afd-4232-81db-d92a534272df",
      "metadata": {
        "id": "5e5fd748-1afd-4232-81db-d92a534272df"
      },
      "outputs": [],
      "source": []
    },
    {
      "cell_type": "code",
      "execution_count": null,
      "id": "def97bb6-4391-4ba9-b838-7116263e6ba2",
      "metadata": {
        "id": "def97bb6-4391-4ba9-b838-7116263e6ba2"
      },
      "outputs": [],
      "source": []
    },
    {
      "cell_type": "code",
      "execution_count": null,
      "id": "1f53acb6-0df6-436a-a30a-5d3a14742fd0",
      "metadata": {
        "id": "1f53acb6-0df6-436a-a30a-5d3a14742fd0"
      },
      "outputs": [],
      "source": []
    },
    {
      "cell_type": "code",
      "execution_count": null,
      "id": "33528705-0b8e-4f5f-b775-1f932f1ed2f3",
      "metadata": {
        "id": "33528705-0b8e-4f5f-b775-1f932f1ed2f3"
      },
      "outputs": [],
      "source": [
        "#Sai"
      ]
    },
    {
      "cell_type": "code",
      "execution_count": null,
      "id": "f4a1e179-80e9-4c35-a684-c27b04e78e48",
      "metadata": {
        "id": "f4a1e179-80e9-4c35-a684-c27b04e78e48"
      },
      "outputs": [],
      "source": []
    },
    {
      "cell_type": "code",
      "execution_count": null,
      "id": "c35231a5-80be-4b42-896e-d7552818bbd2",
      "metadata": {
        "id": "c35231a5-80be-4b42-896e-d7552818bbd2"
      },
      "outputs": [],
      "source": []
    },
    {
      "cell_type": "code",
      "execution_count": null,
      "id": "0b8a43df-48e2-4670-a633-77eeae433877",
      "metadata": {
        "id": "0b8a43df-48e2-4670-a633-77eeae433877"
      },
      "outputs": [],
      "source": []
    },
    {
      "cell_type": "code",
      "execution_count": null,
      "id": "482b1dee-fcf3-4fcc-ae9a-a5ec901378e9",
      "metadata": {
        "id": "482b1dee-fcf3-4fcc-ae9a-a5ec901378e9"
      },
      "outputs": [],
      "source": []
    },
    {
      "cell_type": "code",
      "execution_count": null,
      "id": "f6e23118-9d5f-48c5-9779-d3d1f70ae2b2",
      "metadata": {
        "id": "f6e23118-9d5f-48c5-9779-d3d1f70ae2b2"
      },
      "outputs": [],
      "source": []
    },
    {
      "cell_type": "code",
      "execution_count": null,
      "id": "fcae59aa-393f-44fe-9087-f58382b9c72f",
      "metadata": {
        "id": "fcae59aa-393f-44fe-9087-f58382b9c72f"
      },
      "outputs": [],
      "source": []
    },
    {
      "cell_type": "code",
      "execution_count": null,
      "id": "b7a7bd1d-c1fe-4e26-99ad-80831ee80f3d",
      "metadata": {
        "id": "b7a7bd1d-c1fe-4e26-99ad-80831ee80f3d"
      },
      "outputs": [],
      "source": []
    },
    {
      "cell_type": "code",
      "execution_count": null,
      "id": "1d6a73ed-72ac-428c-ab81-212f8a7ad355",
      "metadata": {
        "id": "1d6a73ed-72ac-428c-ab81-212f8a7ad355"
      },
      "outputs": [],
      "source": []
    },
    {
      "cell_type": "code",
      "execution_count": null,
      "id": "d3f8a958-718c-4118-8992-71123a446037",
      "metadata": {
        "id": "d3f8a958-718c-4118-8992-71123a446037"
      },
      "outputs": [],
      "source": []
    },
    {
      "cell_type": "code",
      "execution_count": null,
      "id": "bd2e82d6-a65a-485e-8be0-c13a49f4ea0a",
      "metadata": {
        "id": "bd2e82d6-a65a-485e-8be0-c13a49f4ea0a"
      },
      "outputs": [],
      "source": []
    },
    {
      "cell_type": "code",
      "execution_count": null,
      "id": "7790923f-c827-403a-974d-64c7478dee61",
      "metadata": {
        "id": "7790923f-c827-403a-974d-64c7478dee61"
      },
      "outputs": [],
      "source": []
    },
    {
      "cell_type": "code",
      "execution_count": null,
      "id": "ecee79cd-e073-4aea-a701-b1d920f17685",
      "metadata": {
        "id": "ecee79cd-e073-4aea-a701-b1d920f17685"
      },
      "outputs": [],
      "source": []
    },
    {
      "cell_type": "code",
      "execution_count": null,
      "id": "194e1845-4ebb-4ca6-ba3d-1e6b2c28fbd6",
      "metadata": {
        "id": "194e1845-4ebb-4ca6-ba3d-1e6b2c28fbd6"
      },
      "outputs": [],
      "source": []
    },
    {
      "cell_type": "code",
      "execution_count": null,
      "id": "91d9360c-453b-4ca0-9968-a1f7ea0f6ab2",
      "metadata": {
        "id": "91d9360c-453b-4ca0-9968-a1f7ea0f6ab2"
      },
      "outputs": [],
      "source": []
    },
    {
      "cell_type": "code",
      "execution_count": null,
      "id": "2b7f08d4-b9d8-43b2-96ce-0b0fb308221d",
      "metadata": {
        "id": "2b7f08d4-b9d8-43b2-96ce-0b0fb308221d"
      },
      "outputs": [],
      "source": []
    },
    {
      "cell_type": "code",
      "execution_count": null,
      "id": "a118ea12-04d4-4646-86b9-0528ed8fc56b",
      "metadata": {
        "id": "a118ea12-04d4-4646-86b9-0528ed8fc56b"
      },
      "outputs": [],
      "source": []
    },
    {
      "cell_type": "code",
      "execution_count": null,
      "id": "ade32e52-46cf-497b-95d3-30d6141b0d08",
      "metadata": {
        "id": "ade32e52-46cf-497b-95d3-30d6141b0d08"
      },
      "outputs": [],
      "source": []
    },
    {
      "cell_type": "code",
      "execution_count": null,
      "id": "6cc4a88b-8138-4df5-8a1b-c17f5bb09765",
      "metadata": {
        "id": "6cc4a88b-8138-4df5-8a1b-c17f5bb09765"
      },
      "outputs": [],
      "source": []
    },
    {
      "cell_type": "code",
      "execution_count": null,
      "id": "12f7afe5-0626-4e3c-bb76-2a809082398c",
      "metadata": {
        "id": "12f7afe5-0626-4e3c-bb76-2a809082398c"
      },
      "outputs": [],
      "source": []
    },
    {
      "cell_type": "code",
      "execution_count": null,
      "id": "af969790-4d74-4e80-bcbf-0c916ed9e021",
      "metadata": {
        "id": "af969790-4d74-4e80-bcbf-0c916ed9e021"
      },
      "outputs": [],
      "source": []
    },
    {
      "cell_type": "code",
      "execution_count": null,
      "id": "5f15094e-48c1-495c-8fd6-f138c9354447",
      "metadata": {
        "id": "5f15094e-48c1-495c-8fd6-f138c9354447"
      },
      "outputs": [],
      "source": []
    },
    {
      "cell_type": "code",
      "execution_count": null,
      "id": "926a2e40-e6ca-4910-a7ab-4921dbad634a",
      "metadata": {
        "id": "926a2e40-e6ca-4910-a7ab-4921dbad634a"
      },
      "outputs": [],
      "source": []
    },
    {
      "cell_type": "code",
      "execution_count": null,
      "id": "0c73eb8c-7a59-4625-893b-af3c05755b76",
      "metadata": {
        "id": "0c73eb8c-7a59-4625-893b-af3c05755b76"
      },
      "outputs": [],
      "source": []
    },
    {
      "cell_type": "code",
      "execution_count": null,
      "id": "444cfa79-e51c-4eb8-a539-84c98f124a2f",
      "metadata": {
        "id": "444cfa79-e51c-4eb8-a539-84c98f124a2f"
      },
      "outputs": [],
      "source": []
    },
    {
      "cell_type": "code",
      "execution_count": null,
      "id": "0229dc41-a635-4691-b05a-1760b7790e5c",
      "metadata": {
        "id": "0229dc41-a635-4691-b05a-1760b7790e5c"
      },
      "outputs": [],
      "source": []
    },
    {
      "cell_type": "code",
      "execution_count": null,
      "id": "6954269b-59df-4f4d-adb8-eda4380c7ff0",
      "metadata": {
        "id": "6954269b-59df-4f4d-adb8-eda4380c7ff0"
      },
      "outputs": [],
      "source": []
    },
    {
      "cell_type": "code",
      "execution_count": null,
      "id": "67c264c6-f3ae-43b5-becb-ec617e38113f",
      "metadata": {
        "id": "67c264c6-f3ae-43b5-becb-ec617e38113f"
      },
      "outputs": [],
      "source": []
    },
    {
      "cell_type": "code",
      "execution_count": null,
      "id": "a377ab64-214b-47f2-a453-fd712bdbb7ee",
      "metadata": {
        "id": "a377ab64-214b-47f2-a453-fd712bdbb7ee"
      },
      "outputs": [],
      "source": []
    },
    {
      "cell_type": "code",
      "execution_count": null,
      "id": "c9b40dfa-6b8d-4f40-a01c-04edd8f663bc",
      "metadata": {
        "id": "c9b40dfa-6b8d-4f40-a01c-04edd8f663bc"
      },
      "outputs": [],
      "source": []
    },
    {
      "cell_type": "code",
      "execution_count": null,
      "id": "672f9e6d-c7b1-4c6c-abd2-a775415d884e",
      "metadata": {
        "id": "672f9e6d-c7b1-4c6c-abd2-a775415d884e"
      },
      "outputs": [],
      "source": []
    },
    {
      "cell_type": "code",
      "execution_count": null,
      "id": "99dd8e66-197c-46e8-89cf-670944f6a625",
      "metadata": {
        "id": "99dd8e66-197c-46e8-89cf-670944f6a625"
      },
      "outputs": [],
      "source": []
    },
    {
      "cell_type": "code",
      "execution_count": null,
      "id": "98a0d696-ad78-479a-b0fd-6a4d8e97f5a4",
      "metadata": {
        "id": "98a0d696-ad78-479a-b0fd-6a4d8e97f5a4"
      },
      "outputs": [],
      "source": []
    },
    {
      "cell_type": "code",
      "execution_count": null,
      "id": "3262f989-9a71-4d5c-8f93-a417bba6cdf9",
      "metadata": {
        "id": "3262f989-9a71-4d5c-8f93-a417bba6cdf9"
      },
      "outputs": [],
      "source": []
    },
    {
      "cell_type": "code",
      "execution_count": null,
      "id": "e4ee26c0-6542-4362-9f58-8ff8590e85b8",
      "metadata": {
        "id": "e4ee26c0-6542-4362-9f58-8ff8590e85b8"
      },
      "outputs": [],
      "source": []
    },
    {
      "cell_type": "code",
      "execution_count": null,
      "id": "6926280d-ca76-4a19-861d-1ce7d1fb0aa4",
      "metadata": {
        "id": "6926280d-ca76-4a19-861d-1ce7d1fb0aa4"
      },
      "outputs": [],
      "source": []
    },
    {
      "cell_type": "code",
      "execution_count": null,
      "id": "7043aac0-2824-4d66-9062-5fd2056a5b7d",
      "metadata": {
        "id": "7043aac0-2824-4d66-9062-5fd2056a5b7d"
      },
      "outputs": [],
      "source": []
    },
    {
      "cell_type": "code",
      "execution_count": null,
      "id": "d232f336-a432-4df0-b7f7-bbead8672096",
      "metadata": {
        "id": "d232f336-a432-4df0-b7f7-bbead8672096"
      },
      "outputs": [],
      "source": []
    },
    {
      "cell_type": "code",
      "execution_count": null,
      "id": "eb5e5d06-e693-4a48-a1fb-ef8bc6daa2e4",
      "metadata": {
        "id": "eb5e5d06-e693-4a48-a1fb-ef8bc6daa2e4"
      },
      "outputs": [],
      "source": []
    },
    {
      "cell_type": "code",
      "execution_count": null,
      "id": "b5512d29-2389-454c-b409-bb0c34d813e7",
      "metadata": {
        "id": "b5512d29-2389-454c-b409-bb0c34d813e7"
      },
      "outputs": [],
      "source": []
    },
    {
      "cell_type": "code",
      "execution_count": null,
      "id": "7899dcfe-04c2-4073-a682-2aa7e116c69a",
      "metadata": {
        "id": "7899dcfe-04c2-4073-a682-2aa7e116c69a"
      },
      "outputs": [],
      "source": []
    },
    {
      "cell_type": "code",
      "execution_count": null,
      "id": "2cf6a849-b32e-4124-9d53-205aaac65533",
      "metadata": {
        "id": "2cf6a849-b32e-4124-9d53-205aaac65533"
      },
      "outputs": [],
      "source": [
        "#piyush"
      ]
    },
    {
      "cell_type": "code",
      "execution_count": 1,
      "id": "cede245f-d76f-4e13-b037-4d9020b03547",
      "metadata": {
        "id": "cede245f-d76f-4e13-b037-4d9020b03547"
      },
      "outputs": [],
      "source": [
        "import numpy as np"
      ]
    },
    {
      "cell_type": "code",
      "execution_count": null,
      "id": "3f62abc6-ba44-4be5-b5fb-6271705a09c2",
      "metadata": {
        "id": "3f62abc6-ba44-4be5-b5fb-6271705a09c2"
      },
      "outputs": [],
      "source": []
    },
    {
      "cell_type": "code",
      "execution_count": null,
      "id": "9e4257a5-ee3b-4f96-b170-acad139a75a8",
      "metadata": {
        "id": "9e4257a5-ee3b-4f96-b170-acad139a75a8"
      },
      "outputs": [],
      "source": []
    },
    {
      "cell_type": "code",
      "execution_count": null,
      "id": "438721cc-0b80-4a66-b7f4-8d9a0526d85b",
      "metadata": {
        "id": "438721cc-0b80-4a66-b7f4-8d9a0526d85b"
      },
      "outputs": [],
      "source": []
    },
    {
      "cell_type": "code",
      "execution_count": null,
      "id": "b8447e55-1f4b-4eae-b4bb-cd19f329921f",
      "metadata": {
        "id": "b8447e55-1f4b-4eae-b4bb-cd19f329921f"
      },
      "outputs": [],
      "source": []
    },
    {
      "cell_type": "code",
      "execution_count": null,
      "id": "816e562f-0d81-44d8-bae8-0d9cdda542aa",
      "metadata": {
        "id": "816e562f-0d81-44d8-bae8-0d9cdda542aa"
      },
      "outputs": [],
      "source": []
    },
    {
      "cell_type": "code",
      "execution_count": null,
      "id": "c7611e4d-3a4b-4589-9fb9-760bf5c86f61",
      "metadata": {
        "id": "c7611e4d-3a4b-4589-9fb9-760bf5c86f61"
      },
      "outputs": [],
      "source": []
    },
    {
      "cell_type": "code",
      "execution_count": null,
      "id": "575af302-d671-4f37-acb0-02d8c5f197be",
      "metadata": {
        "id": "575af302-d671-4f37-acb0-02d8c5f197be"
      },
      "outputs": [],
      "source": []
    },
    {
      "cell_type": "code",
      "execution_count": null,
      "id": "ec97a6bb-1454-4fa9-afbc-073742348941",
      "metadata": {
        "id": "ec97a6bb-1454-4fa9-afbc-073742348941"
      },
      "outputs": [],
      "source": []
    },
    {
      "cell_type": "code",
      "execution_count": null,
      "id": "03fcbbf3-d39e-4806-a806-95c1d91a5d50",
      "metadata": {
        "id": "03fcbbf3-d39e-4806-a806-95c1d91a5d50"
      },
      "outputs": [],
      "source": []
    },
    {
      "cell_type": "code",
      "execution_count": null,
      "id": "803d936a-d68e-43b3-a4eb-54987c32be39",
      "metadata": {
        "id": "803d936a-d68e-43b3-a4eb-54987c32be39"
      },
      "outputs": [],
      "source": []
    },
    {
      "cell_type": "code",
      "execution_count": null,
      "id": "18ce5d96-30c2-49bd-98ee-5cc16ee848cc",
      "metadata": {
        "id": "18ce5d96-30c2-49bd-98ee-5cc16ee848cc"
      },
      "outputs": [],
      "source": []
    },
    {
      "cell_type": "code",
      "execution_count": null,
      "id": "0adc847d-a5c1-4723-9796-a2dde092cb70",
      "metadata": {
        "id": "0adc847d-a5c1-4723-9796-a2dde092cb70"
      },
      "outputs": [],
      "source": []
    },
    {
      "cell_type": "code",
      "execution_count": null,
      "id": "35bfe81b-d725-4752-85b8-20fbedbd976e",
      "metadata": {
        "id": "35bfe81b-d725-4752-85b8-20fbedbd976e"
      },
      "outputs": [],
      "source": []
    },
    {
      "cell_type": "code",
      "execution_count": null,
      "id": "cf3e585d-7bcf-4e47-ba2c-eb33422adecf",
      "metadata": {
        "id": "cf3e585d-7bcf-4e47-ba2c-eb33422adecf"
      },
      "outputs": [],
      "source": []
    },
    {
      "cell_type": "code",
      "execution_count": null,
      "id": "e40ff4c1-38db-4168-b01f-59093ea281be",
      "metadata": {
        "id": "e40ff4c1-38db-4168-b01f-59093ea281be"
      },
      "outputs": [],
      "source": []
    },
    {
      "cell_type": "code",
      "execution_count": null,
      "id": "c9057743-de01-4c72-9ac3-e2b6cc863f20",
      "metadata": {
        "id": "c9057743-de01-4c72-9ac3-e2b6cc863f20"
      },
      "outputs": [],
      "source": []
    },
    {
      "cell_type": "code",
      "execution_count": null,
      "id": "b481bc76-ad04-45e4-8f83-0c71f557e01d",
      "metadata": {
        "id": "b481bc76-ad04-45e4-8f83-0c71f557e01d"
      },
      "outputs": [],
      "source": []
    },
    {
      "cell_type": "code",
      "execution_count": null,
      "id": "b1465fa7-d7a0-4141-9d63-baa5be846343",
      "metadata": {
        "id": "b1465fa7-d7a0-4141-9d63-baa5be846343"
      },
      "outputs": [],
      "source": []
    },
    {
      "cell_type": "code",
      "execution_count": null,
      "id": "16dbf7d9-2a85-4862-846b-7790f7319a58",
      "metadata": {
        "id": "16dbf7d9-2a85-4862-846b-7790f7319a58"
      },
      "outputs": [],
      "source": []
    },
    {
      "cell_type": "code",
      "execution_count": null,
      "id": "5264b3ef-7ccc-4f5d-85f2-fb5fffbe9f5a",
      "metadata": {
        "id": "5264b3ef-7ccc-4f5d-85f2-fb5fffbe9f5a"
      },
      "outputs": [],
      "source": []
    },
    {
      "cell_type": "code",
      "execution_count": null,
      "id": "d8198817-17d5-40d3-b804-3ca87b15ded0",
      "metadata": {
        "id": "d8198817-17d5-40d3-b804-3ca87b15ded0"
      },
      "outputs": [],
      "source": []
    },
    {
      "cell_type": "code",
      "execution_count": null,
      "id": "540b896e-e574-4c6a-8b64-14d677bac4e9",
      "metadata": {
        "id": "540b896e-e574-4c6a-8b64-14d677bac4e9"
      },
      "outputs": [],
      "source": []
    },
    {
      "cell_type": "code",
      "execution_count": null,
      "id": "7559e4f4-716c-4bbf-b68f-162a54b76424",
      "metadata": {
        "id": "7559e4f4-716c-4bbf-b68f-162a54b76424"
      },
      "outputs": [],
      "source": []
    },
    {
      "cell_type": "code",
      "execution_count": null,
      "id": "0d2bcd86-0c8e-42d0-b6bf-40fd842c7b47",
      "metadata": {
        "id": "0d2bcd86-0c8e-42d0-b6bf-40fd842c7b47"
      },
      "outputs": [],
      "source": []
    },
    {
      "cell_type": "code",
      "execution_count": null,
      "id": "4899beea-ef4e-42a4-b000-63820719ba86",
      "metadata": {
        "id": "4899beea-ef4e-42a4-b000-63820719ba86"
      },
      "outputs": [],
      "source": [
        "#sania"
      ]
    },
    {
      "cell_type": "code",
      "execution_count": null,
      "id": "baa0d22f-5bfb-4418-a741-cb1595971e9d",
      "metadata": {
        "id": "baa0d22f-5bfb-4418-a741-cb1595971e9d"
      },
      "outputs": [],
      "source": []
    },
    {
      "cell_type": "code",
      "execution_count": null,
      "id": "7c728670-a0f8-4781-8d1d-88b1e0bebdf9",
      "metadata": {
        "id": "7c728670-a0f8-4781-8d1d-88b1e0bebdf9"
      },
      "outputs": [],
      "source": []
    },
    {
      "cell_type": "code",
      "execution_count": null,
      "id": "3074cc2f-6f6d-40f4-8880-26be21fdcff7",
      "metadata": {
        "id": "3074cc2f-6f6d-40f4-8880-26be21fdcff7"
      },
      "outputs": [],
      "source": []
    },
    {
      "cell_type": "code",
      "execution_count": null,
      "id": "709e80e2-19e6-4cfe-a75d-b3d5c34543e8",
      "metadata": {
        "id": "709e80e2-19e6-4cfe-a75d-b3d5c34543e8"
      },
      "outputs": [],
      "source": []
    },
    {
      "cell_type": "code",
      "execution_count": null,
      "id": "01100e01-840d-45c4-a531-bad10c12a999",
      "metadata": {
        "id": "01100e01-840d-45c4-a531-bad10c12a999"
      },
      "outputs": [],
      "source": []
    },
    {
      "cell_type": "code",
      "execution_count": null,
      "id": "8bee98f9-fc98-4f28-a5e9-96a8f685d7c3",
      "metadata": {
        "id": "8bee98f9-fc98-4f28-a5e9-96a8f685d7c3"
      },
      "outputs": [],
      "source": []
    },
    {
      "cell_type": "code",
      "execution_count": null,
      "id": "38de0194-dd95-4ea3-bdd3-19ec9b72b5fd",
      "metadata": {
        "id": "38de0194-dd95-4ea3-bdd3-19ec9b72b5fd"
      },
      "outputs": [],
      "source": []
    },
    {
      "cell_type": "code",
      "execution_count": null,
      "id": "b9fe086e-80a8-4183-b72c-77c0d35c7f3a",
      "metadata": {
        "id": "b9fe086e-80a8-4183-b72c-77c0d35c7f3a"
      },
      "outputs": [],
      "source": []
    },
    {
      "cell_type": "code",
      "execution_count": null,
      "id": "50e1df89-1727-400c-9ff0-712a729dfb46",
      "metadata": {
        "id": "50e1df89-1727-400c-9ff0-712a729dfb46"
      },
      "outputs": [],
      "source": []
    },
    {
      "cell_type": "code",
      "execution_count": null,
      "id": "52cba482-51ae-49dc-addd-f08667cbdc28",
      "metadata": {
        "id": "52cba482-51ae-49dc-addd-f08667cbdc28"
      },
      "outputs": [],
      "source": []
    },
    {
      "cell_type": "code",
      "execution_count": null,
      "id": "7bba518d-f624-47b2-9ee1-fc8168b56dd8",
      "metadata": {
        "id": "7bba518d-f624-47b2-9ee1-fc8168b56dd8"
      },
      "outputs": [],
      "source": []
    },
    {
      "cell_type": "code",
      "execution_count": null,
      "id": "747977a1-6c2b-4b7e-98b9-2a4f1df3805a",
      "metadata": {
        "id": "747977a1-6c2b-4b7e-98b9-2a4f1df3805a"
      },
      "outputs": [],
      "source": []
    },
    {
      "cell_type": "code",
      "execution_count": null,
      "id": "1fb435ef-8b05-4ec0-bba3-5e81730f09b0",
      "metadata": {
        "id": "1fb435ef-8b05-4ec0-bba3-5e81730f09b0"
      },
      "outputs": [],
      "source": []
    },
    {
      "cell_type": "code",
      "execution_count": null,
      "id": "798bf52f-1da0-4f68-b438-27b56a2c36a0",
      "metadata": {
        "id": "798bf52f-1da0-4f68-b438-27b56a2c36a0"
      },
      "outputs": [],
      "source": []
    },
    {
      "cell_type": "code",
      "execution_count": null,
      "id": "9a8398c2-5e19-4e39-9bdf-5b51845b6b21",
      "metadata": {
        "id": "9a8398c2-5e19-4e39-9bdf-5b51845b6b21"
      },
      "outputs": [],
      "source": []
    },
    {
      "cell_type": "code",
      "execution_count": null,
      "id": "694a2a3e-ec36-4fec-aa27-844e279fe46e",
      "metadata": {
        "id": "694a2a3e-ec36-4fec-aa27-844e279fe46e"
      },
      "outputs": [],
      "source": []
    },
    {
      "cell_type": "code",
      "execution_count": null,
      "id": "cbde3331-eafd-4302-a456-21bf1ff70fe0",
      "metadata": {
        "id": "cbde3331-eafd-4302-a456-21bf1ff70fe0"
      },
      "outputs": [],
      "source": []
    },
    {
      "cell_type": "code",
      "execution_count": null,
      "id": "44904528-1e5e-4e76-90e4-93509811eeaf",
      "metadata": {
        "id": "44904528-1e5e-4e76-90e4-93509811eeaf"
      },
      "outputs": [],
      "source": []
    },
    {
      "cell_type": "code",
      "execution_count": null,
      "id": "beb8c650-2f71-455f-82de-dc43464c2a8a",
      "metadata": {
        "id": "beb8c650-2f71-455f-82de-dc43464c2a8a"
      },
      "outputs": [],
      "source": []
    },
    {
      "cell_type": "code",
      "execution_count": null,
      "id": "4123e934-f5e1-45b9-b8fd-133188962705",
      "metadata": {
        "id": "4123e934-f5e1-45b9-b8fd-133188962705"
      },
      "outputs": [],
      "source": []
    },
    {
      "cell_type": "code",
      "execution_count": null,
      "id": "f648582b-2a5d-489e-8006-3f6145b086d4",
      "metadata": {
        "id": "f648582b-2a5d-489e-8006-3f6145b086d4"
      },
      "outputs": [],
      "source": []
    },
    {
      "cell_type": "code",
      "execution_count": null,
      "id": "e26d36bf-dc4d-4a8e-87ec-8df9bbde4505",
      "metadata": {
        "id": "e26d36bf-dc4d-4a8e-87ec-8df9bbde4505"
      },
      "outputs": [],
      "source": []
    },
    {
      "cell_type": "code",
      "execution_count": null,
      "id": "2fd62af5-b7c6-4f74-84f0-16b590cfc428",
      "metadata": {
        "id": "2fd62af5-b7c6-4f74-84f0-16b590cfc428"
      },
      "outputs": [],
      "source": []
    },
    {
      "cell_type": "code",
      "execution_count": null,
      "id": "0d8299c1-1c82-45e7-975e-126046eaa4bb",
      "metadata": {
        "id": "0d8299c1-1c82-45e7-975e-126046eaa4bb"
      },
      "outputs": [],
      "source": []
    },
    {
      "cell_type": "code",
      "execution_count": null,
      "id": "49074e48-982f-4816-8b3d-5ec492aa0540",
      "metadata": {
        "id": "49074e48-982f-4816-8b3d-5ec492aa0540"
      },
      "outputs": [],
      "source": []
    },
    {
      "cell_type": "code",
      "execution_count": null,
      "id": "72fb428d-adb6-40b1-bd54-30b75c2a9015",
      "metadata": {
        "id": "72fb428d-adb6-40b1-bd54-30b75c2a9015"
      },
      "outputs": [],
      "source": []
    },
    {
      "cell_type": "code",
      "execution_count": null,
      "id": "e792f588-d297-465e-9621-1e3129f5fcd5",
      "metadata": {
        "id": "e792f588-d297-465e-9621-1e3129f5fcd5"
      },
      "outputs": [],
      "source": []
    },
    {
      "cell_type": "code",
      "execution_count": null,
      "id": "66342808-3cc0-4d65-9bd3-f2df38f26e05",
      "metadata": {
        "id": "66342808-3cc0-4d65-9bd3-f2df38f26e05"
      },
      "outputs": [],
      "source": []
    },
    {
      "cell_type": "code",
      "execution_count": null,
      "id": "ad82fa90-d37f-4b9d-86a4-66635c478dd8",
      "metadata": {
        "id": "ad82fa90-d37f-4b9d-86a4-66635c478dd8"
      },
      "outputs": [],
      "source": []
    }
  ],
  "metadata": {
    "kernelspec": {
      "display_name": "Python 3",
      "language": "python",
      "name": "python3"
    },
    "language_info": {
      "codemirror_mode": {
        "name": "ipython",
        "version": 3
      },
      "file_extension": ".py",
      "mimetype": "text/x-python",
      "name": "python",
      "nbconvert_exporter": "python",
      "pygments_lexer": "ipython3",
      "version": "3.12.7"
    },
    "colab": {
      "provenance": []
    }
  },
  "nbformat": 4,
  "nbformat_minor": 5
}